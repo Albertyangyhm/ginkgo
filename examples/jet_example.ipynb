{
 "cells": [
  {
   "cell_type": "code",
   "execution_count": 1,
   "metadata": {},
   "outputs": [],
   "source": [
    "%load_ext autoreload\n",
    "%autoreload 2"
   ]
  },
  {
   "cell_type": "code",
   "execution_count": 2,
   "metadata": {},
   "outputs": [],
   "source": [
    "import numpy as np\n",
    "import torch\n",
    "import pprint\n",
    "import matplotlib.pyplot as plt\n",
    "import sys\n",
    "import pickle\n",
    "import argparse\n",
    "import logging\n",
    "import os\n",
    "\n",
    "from ginkgo import invMass_ginkgo\n",
    "from ginkgo.utils import get_logger\n",
    "\n",
    "\n",
    "logger = get_logger(level=logging.WARNING)\n"
   ]
  },
  {
   "cell_type": "code",
   "execution_count": null,
   "metadata": {},
   "outputs": [],
   "source": []
  },
  {
   "cell_type": "code",
   "execution_count": null,
   "metadata": {},
   "outputs": [],
   "source": []
  },
  {
   "cell_type": "code",
   "execution_count": null,
   "metadata": {},
   "outputs": [],
   "source": []
  },
  {
   "cell_type": "code",
   "execution_count": null,
   "metadata": {},
   "outputs": [],
   "source": []
  },
  {
   "cell_type": "code",
   "execution_count": 6,
   "metadata": {},
   "outputs": [],
   "source": [
    "\"\"\"Parameters\"\"\"\n",
    "\n",
    "\n",
    "rate2=torch.tensor(8.)\n",
    "\n",
    "# Parameters to get ~<10 constituents to test the trellis algorithm\n",
    "pt_min = torch.tensor(4.**2)\n",
    "# pt_min = torch.tensor(2.3**2)\n",
    "\n",
    "# pt_min = torch.tensor(1.1**2) # For leaves between 5 and 40\n",
    "\n",
    "# pt_min = torch.tensor(0.02**2)\n",
    "\n",
    "### Physics inspired parameters to get ~ between 20 and 50 constituents\n",
    "W_rate = 3.\n",
    "QCD_rate = 1.5\n",
    "# pt_min = torch.tensor(1.2**2)\n",
    "\n",
    "QCD_mass = 30.\n",
    "class ginkgo_simulator():\n",
    "    def __init__(self,\n",
    "                 rate,\n",
    "                 pt_cut,\n",
    "                 M2start,\n",
    "                 Nsamples,\n",
    "                 minLeaves,\n",
    "                 maxLeaves,\n",
    "                 maxNTry,\n",
    "                 jetType, \n",
    "                 jetP,\n",
    "                 root_rate= 1.5,\n",
    "                ):\n",
    "        \n",
    "        self.root_rate = root_rate\n",
    "        self.rate = rate\n",
    "        self.pt_cut = pt_cut\n",
    "        self.M2start=torch.tensor(M2start)\n",
    "        self.Nsamples=Nsamples\n",
    "        self.minLeaves=minLeaves\n",
    "        self.maxLeaves=maxLeaves\n",
    "        self.maxNTry=maxNTry\n",
    "        self.jetType= jetType\n",
    "        self.jetM = np.sqrt(M2start)\n",
    "        self.jetdir = np.array([1,1,1])\n",
    "        self.jetP = jetP\n",
    "        self.jetvec = self.jetP * self.jetdir / np.linalg.norm(self.jetdir)\n",
    "        self.jet4vec = np.concatenate(([np.sqrt(self.jetP**2 + self.jetM**2)], self.jetvec))\n",
    "        logger.debug(f\"jet4vec = {self.jet4vec}\")\n",
    "        \n",
    "        if jetType == \"W\":\n",
    "            \"\"\" W jets\"\"\"\n",
    "            self.rate=torch.tensor([self.root_rate,self.rate]) #Entries: [root node, every other node] decaying rates. Choose same values for a QCD jet\n",
    "        elif jetType == \"QCD\":\n",
    "            \"\"\" QCD jets \"\"\"\n",
    "            self.rate=torch.tensor([self.rate,self.rate]) #Entries: [root node, every other node] decaying rates. Choose same values for a QCD jet\n",
    "        else:\n",
    "            raise ValueError(\"Choose a valid jet type between W or QCD\")\n",
    "\n",
    "\n",
    "\n",
    "    def simulator(self):\n",
    "\n",
    "        simulator = invMass_ginkgo.Simulator(jet_p=self.jet4vec,\n",
    "                                         pt_cut=float(self.pt_cut),\n",
    "                                         Delta_0=self.M2start,\n",
    "                                         M_hard=self.jetM ,\n",
    "                                         num_samples=int(self.Nsamples),\n",
    "                                         minLeaves =int(self.minLeaves),\n",
    "                                         maxLeaves = int(self.maxLeaves),\n",
    "                                         maxNTry = int(self.maxNTry)\n",
    "                                         )\n",
    "        return simulator\n",
    "       \n",
    "    def generate(self):\n",
    "        \n",
    "        simulator = self.simulator()\n",
    "        jet_list = simulator(self.rate)\n",
    "\n",
    "        logger.debug(f\"---\"*10)\n",
    "        logger.debug(f\"jet_list = {jet_list}\")\n",
    "        \n",
    "        return jet_list"
   ]
  },
  {
   "cell_type": "code",
   "execution_count": 84,
   "metadata": {},
   "outputs": [],
   "source": [
    "minLeaves = 3\n",
    "maxLeaves = 100\n",
    "Nsamples = 2000\n",
    "\n",
    "rate = 1.5\n",
    "pt_cut =  torch.tensor(1.1**2)\n",
    "M2start = 80.**2\n",
    "maxNTry = 20000\n",
    "jetP=400."
   ]
  },
  {
   "cell_type": "code",
   "execution_count": 85,
   "metadata": {},
   "outputs": [
    {
     "name": "stdout",
     "output_type": "stream",
     "text": [
      "------------------------------\n",
      "------------------------------\n",
      "Generated  1000 jets with  3 <=number of leaves< 100\n",
      "Generated  1000  jets\n",
      "------------------------------\n",
      "Generated  2000 jets with  3 <=number of leaves< 100\n",
      "Generated  2000  jets\n"
     ]
    }
   ],
   "source": [
    "jetType =\"QCD\"\n",
    "\n",
    "\n",
    "ginkgo= ginkgo_simulator(\n",
    "                 rate,\n",
    "                 pt_cut ,\n",
    "                 M2start,\n",
    "                 Nsamples,\n",
    "                 minLeaves,\n",
    "                 maxLeaves,\n",
    "                 maxNTry,\n",
    "                 jetType, \n",
    "                 jetP)\n",
    "\n",
    "QCD_jets = ginkgo.generate()"
   ]
  },
  {
   "cell_type": "code",
   "execution_count": 107,
   "metadata": {},
   "outputs": [
    {
     "name": "stdout",
     "output_type": "stream",
     "text": [
      "------------------------------\n",
      "------------------------------\n",
      "------------------------------\n",
      "------------------------------\n",
      "Generated  1000 jets with  3 <=number of leaves< 100\n",
      "Generated  1000  jets\n",
      "Generated  2000 jets with  3 <=number of leaves< 100\n",
      "Generated  2000  jets\n"
     ]
    }
   ],
   "source": [
    "root_rate = 4.\n",
    "jetType =\"W\"\n",
    "\n",
    "\n",
    "ginkgo= ginkgo_simulator(\n",
    "                 rate,\n",
    "                 pt_cut ,\n",
    "                 M2start,\n",
    "                 Nsamples,\n",
    "                 minLeaves,\n",
    "                 maxLeaves,\n",
    "                 maxNTry,\n",
    "                 jetType, \n",
    "                 jetP,\n",
    "                 root_rate)\n",
    "\n",
    "W_jets = ginkgo.generate()"
   ]
  },
  {
   "cell_type": "code",
   "execution_count": null,
   "metadata": {},
   "outputs": [],
   "source": []
  },
  {
   "cell_type": "code",
   "execution_count": 108,
   "metadata": {},
   "outputs": [],
   "source": [
    "N_QCD = [len(jet[\"leaves\"]) for jet in QCD_jets]\n",
    "N_W= [len(jet[\"leaves\"]) for jet in W_jets]"
   ]
  },
  {
   "cell_type": "code",
   "execution_count": 115,
   "metadata": {},
   "outputs": [
    {
     "data": {
      "image/png": "[encoded data removed]",
      "text/plain": [
       "<Figure size 720x360 with 1 Axes>"
      ]
     },
     "metadata": {
      "needs_background": "light"
     },
     "output_type": "display_data"
    }
   ],
   "source": [
    "bins=30\n",
    "fig2, (axes) = plt.subplots(nrows=1, ncols=1)\n",
    "fig2.set_size_inches(10, 5)\n",
    "plt.tight_layout(pad=0.4, w_pad=5, h_pad=1.0)\n",
    "axes.hist(N_QCD,  bins=bins,\n",
    "                 histtype=\"step\",\n",
    "                 fill=False,\n",
    "                 align='mid',\n",
    "                 label=\"QCD\",\n",
    "                 color=\"red\")\n",
    "axes.hist(N_W,  bins=bins,\n",
    "                 histtype=\"step\",\n",
    "                 fill=False,\n",
    "                 align='mid',\n",
    "                 label=\"W\",\n",
    "                 color=\"green\")\n",
    "\n",
    "axes.set_xlabel(\"Number of elements\", fontsize=15)\n",
    "axes.set_ylabel(\"# of jets\", fontsize=15)\n",
    "\n",
    "axes.legend(loc='best', fontsize=15)\n",
    "axes.grid(which='both', axis='both', linestyle='--')"
   ]
  },
  {
   "cell_type": "code",
   "execution_count": null,
   "metadata": {},
   "outputs": [],
   "source": []
  },
  {
   "cell_type": "code",
   "execution_count": 110,
   "metadata": {},
   "outputs": [],
   "source": [
    "def pTetaPhi(jets):\n",
    "\n",
    "    for jet in jets:\n",
    "        p =np.asarray([ np.linalg.norm(const[1::]) for const in  jet[\"leaves\"] ])\n",
    "        px = np.asarray([const[1] for const in  jet[\"leaves\"] ])\n",
    "        py = np.asarray([const[2] for const in  jet[\"leaves\"] ])\n",
    "        pz =np.asarray( [const[3] for const in  jet[\"leaves\"] ])\n",
    "\n",
    "        pT = np.asarray([ np.linalg.norm(const[1:3]) for const in  jet[\"leaves\"] ])\n",
    "        eta = 0.5 * (np.log(p + pz) - np.log(p - pz)) \n",
    "        phi = np.arctan2(py, px) \n",
    "\n",
    "        \n",
    "        \n",
    "        pTj=np.sum(pT)\n",
    "        eta_c=np.sum(pT*eta)/pTj \n",
    "        phi_c=np.sum(pT*phi)/pTj \n",
    "\n",
    "        jet[\"eta_c\"] = eta_c\n",
    "        jet [\"phi_c\"]  = phi_c\n",
    "        jet[\"pT\"] = pTj\n",
    "        \n",
    "        \"\"\" Shift to center at [0,0]\"\"\"\n",
    "        eta = eta - eta_c\n",
    "        phi = phi - phi_c\n",
    "        \n",
    "        jet[\"pTetaPhi\"] =  np.asarray([pT,eta,phi])\n",
    "        \n",
    "        \"\"\"Principal axis\"\"\"\n",
    "        tan_theta=0.\n",
    "        M11=np.sum(jet[\"pTetaPhi\"][0]*jet[\"pTetaPhi\"][1]*jet[\"pTetaPhi\"][2])\n",
    "        M20=np.sum(jet[\"pTetaPhi\"][0]*jet[\"pTetaPhi\"][1]*jet[\"pTetaPhi\"][1])\n",
    "        M02=np.sum(jet[\"pTetaPhi\"][0]*jet[\"pTetaPhi\"][2]*jet[\"pTetaPhi\"][2])  \n",
    "        denom=(M20-M02+np.sqrt(4*M11*M11+(M20-M02)*(M20-M02)))\n",
    "        if(denom!=0):\n",
    "            tan_theta=2*M11/denom\n",
    "\n",
    "#         print(\"tan(theta) = \", tan_theta)\n",
    "\n",
    "        \"\"\"Rotate\"\"\"\n",
    "        rotpt=jet[\"pTetaPhi\"][0]\n",
    "        roteta=jet[\"pTetaPhi\"][1]*np.cos(np.arctan(tan_theta))+jet[\"pTetaPhi\"][2]*np.sin(np.arctan(tan_theta))\n",
    "        rotphi=np.unwrap(-jet[\"pTetaPhi\"][1]*np.sin(np.arctan(tan_theta))+jet[\"pTetaPhi\"][2]*np.cos(np.arctan(tan_theta)))\n",
    "        \n",
    "        \n",
    "        jet[\"rotpTetaPhi\"] =  np.asarray([rotpt, roteta, rotphi])\n",
    "\n",
    "\n",
    "    return jets"
   ]
  },
  {
   "cell_type": "code",
   "execution_count": 111,
   "metadata": {},
   "outputs": [],
   "source": [
    "def pixelate(DReta,DRphi,npoints , jets):\n",
    "    etamin, etamax = -DReta, DReta # Eta range for the image\n",
    "    phimin, phimax = -DRphi, DRphi # Phi range for the image\n",
    "\n",
    "    allimages=[]\n",
    "    grid=np.zeros((npoints-1,npoints-1))\n",
    "    \n",
    "    for jet in jets:\n",
    "    \n",
    "        ietalist =(( jet[\"rotpTetaPhi\"][1]+DReta)/(2*DReta/float(npoints-1))).astype(int)\n",
    "        iphilist =(( jet[\"rotpTetaPhi\"][2]+DRphi)/(2*DRphi/float(npoints-1))).astype(int)\n",
    "    \n",
    "        for ipos in range(len( jet[\"rotpTetaPhi\"][0])):\n",
    "\n",
    "            if(0 <= ietalist[ipos] < npoints-1 and 0 <= iphilist[ipos] <npoints-1):\n",
    "                \n",
    "                grid[ietalist[ipos],iphilist[ipos]]+= [jet[\"rotpTetaPhi\"][0][ipos]] \n",
    "\n",
    "\n",
    "    return grid/np.sum(grid)"
   ]
  },
  {
   "cell_type": "code",
   "execution_count": 112,
   "metadata": {},
   "outputs": [],
   "source": [
    "DReta =0.6\n",
    "DRphi = 0.6\n",
    "Npoints = 50\n",
    "\n",
    "jets_dic={\"W\":W_jets,\"QCD\":QCD_jets}\n",
    "\n",
    "images={}\n",
    "for key in jets_dic.keys():\n",
    "    pTetaPhiList = pTetaPhi(jets_dic[key])\n",
    "    images[key] = pixelate(DReta, DRphi,Npoints, pTetaPhiList)"
   ]
  },
  {
   "cell_type": "code",
   "execution_count": 113,
   "metadata": {},
   "outputs": [
    {
     "data": {
      "image/png": "[encoded data removed]",
      "text/plain": [
       "<Figure size 1080x432 with 4 Axes>"
      ]
     },
     "metadata": {
      "needs_background": "light"
     },
     "output_type": "display_data"
    }
   ],
   "source": [
    "fig2, (axes) = plt.subplots(nrows=1, ncols=2)\n",
    "fig2.set_size_inches(15,6)\n",
    "plt.tight_layout(pad=0.4, w_pad=5, h_pad=1.0)\n",
    "\n",
    "for i,key in enumerate(jets_dic.keys()):\n",
    "    cl1 = axes[i].imshow(images[key], 'gnuplot', aspect = \"equal\", extent=[-DReta, DReta,-DRphi, DRphi])# , \n",
    "#     cl1 = axes[i].imshow(images[key], 'gnuplot', extent=[-DReta, DReta,-DRphi, DRphi],  norm=LogNorm(vmin=0.01, vmax=1))# , origin='upper', interpolation='none', vmin=0, vmax=0.5)\n",
    "    axes[i].set_title(r\"\"+str(key), fontsize = 20)\n",
    "    \n",
    "#     cbar = fig2.colorbar(cl1)\n",
    "    fig2.colorbar(cl1, ax=axes[i])\n",
    "    \n",
    "    axes[i].set_xlabel('$\\eta^{\\prime\\prime}$', size = 20)\n",
    "    axes[i].set_ylabel('$\\phi^{\\prime\\prime}$', size =20)\n",
    "    \n",
    "#         cl1 = axes.scatter(np.asarray(results[\"trellis_MLE\"]), np.asarray(results[\"Z\"]), c=np.asarray(results[\"Nleaves\"]), marker=\"X\", s=markersize)\n",
    "# #     axes[i].scatter(truthLogLH, BSO_jetsListLogLH, color='green', marker=\"o\", s=markersize, label=\"Beam Search\")\n",
    "\n",
    "    \n",
    "#     cb = fig2.colorbar(cl1, ax=axes, fraction=0.15, shrink=1.0, aspect=20)\n",
    "#     cb.set_label(label=\"Number of leaves\", size=25)\n",
    "#     cb.ax.tick_params(labelsize=15)\n",
    "    \n",
    "\n",
    "    cl1.axes.tick_params(labelsize=15) \n",
    "\n",
    "\n",
    "plt.show()"
   ]
  },
  {
   "cell_type": "code",
   "execution_count": null,
   "metadata": {},
   "outputs": [],
   "source": []
  },
  {
   "cell_type": "code",
   "execution_count": null,
   "metadata": {},
   "outputs": [],
   "source": []
  },
  {
   "cell_type": "code",
   "execution_count": null,
   "metadata": {},
   "outputs": [],
   "source": []
  },
  {
   "cell_type": "code",
   "execution_count": null,
   "metadata": {},
   "outputs": [],
   "source": []
  },
  {
   "cell_type": "code",
   "execution_count": null,
   "metadata": {},
   "outputs": [],
   "source": []
  }
 ],
 "metadata": {
  "kernelspec": {
   "display_name": "Python 3",
   "language": "python",
   "name": "python3"
  },
  "language_info": {
   "codemirror_mode": {
    "name": "ipython",
    "version": 3
   },
   "file_extension": ".py",
   "mimetype": "text/x-python",
   "name": "python",
   "nbconvert_exporter": "python",
   "pygments_lexer": "ipython3",
   "version": "3.7.3"
  }
 },
 "nbformat": 4,
 "nbformat_minor": 4
}
